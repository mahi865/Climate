{
  "cells": [
    {
      "cell_type": "markdown",
      "metadata": {
        "id": "RRvZ7hpQhGR6"
      },
      "source": [
        "1. Data Loading and Preprocessing\n"
      ]
    },
    {
      "cell_type": "code",
      "execution_count": 3,
      "metadata": {
        "colab": {
          "base_uri": "https://localhost:8080/",
          "height": 206
        },
        "id": "6VwoV1bhgsEj",
        "outputId": "35a5b93d-a9a3-4e17-b052-d3db73053c01"
      },
      "outputs": [
        {
          "data": {
            "text/html": [
              "<div>\n",
              "<style scoped>\n",
              "    .dataframe tbody tr th:only-of-type {\n",
              "        vertical-align: middle;\n",
              "    }\n",
              "\n",
              "    .dataframe tbody tr th {\n",
              "        vertical-align: top;\n",
              "    }\n",
              "\n",
              "    .dataframe thead th {\n",
              "        text-align: right;\n",
              "    }\n",
              "</style>\n",
              "<table border=\"1\" class=\"dataframe\">\n",
              "  <thead>\n",
              "    <tr style=\"text-align: right;\">\n",
              "      <th></th>\n",
              "      <th>Area</th>\n",
              "      <th>Item</th>\n",
              "      <th>Year</th>\n",
              "      <th>hg/ha_yield</th>\n",
              "      <th>average_rain_fall_mm_per_year</th>\n",
              "      <th>pesticides_tonnes</th>\n",
              "      <th>avg_temp</th>\n",
              "    </tr>\n",
              "  </thead>\n",
              "  <tbody>\n",
              "    <tr>\n",
              "      <th>0</th>\n",
              "      <td>Albania</td>\n",
              "      <td>Maize</td>\n",
              "      <td>1990</td>\n",
              "      <td>36613</td>\n",
              "      <td>1485.0</td>\n",
              "      <td>121.0</td>\n",
              "      <td>16.37</td>\n",
              "    </tr>\n",
              "    <tr>\n",
              "      <th>1</th>\n",
              "      <td>Albania</td>\n",
              "      <td>Potatoes</td>\n",
              "      <td>1990</td>\n",
              "      <td>66667</td>\n",
              "      <td>1485.0</td>\n",
              "      <td>121.0</td>\n",
              "      <td>16.37</td>\n",
              "    </tr>\n",
              "    <tr>\n",
              "      <th>2</th>\n",
              "      <td>Albania</td>\n",
              "      <td>Rice, paddy</td>\n",
              "      <td>1990</td>\n",
              "      <td>23333</td>\n",
              "      <td>1485.0</td>\n",
              "      <td>121.0</td>\n",
              "      <td>16.37</td>\n",
              "    </tr>\n",
              "    <tr>\n",
              "      <th>3</th>\n",
              "      <td>Albania</td>\n",
              "      <td>Sorghum</td>\n",
              "      <td>1990</td>\n",
              "      <td>12500</td>\n",
              "      <td>1485.0</td>\n",
              "      <td>121.0</td>\n",
              "      <td>16.37</td>\n",
              "    </tr>\n",
              "    <tr>\n",
              "      <th>4</th>\n",
              "      <td>Albania</td>\n",
              "      <td>Soybeans</td>\n",
              "      <td>1990</td>\n",
              "      <td>7000</td>\n",
              "      <td>1485.0</td>\n",
              "      <td>121.0</td>\n",
              "      <td>16.37</td>\n",
              "    </tr>\n",
              "  </tbody>\n",
              "</table>\n",
              "</div>"
            ],
            "text/plain": [
              "      Area         Item  Year  hg/ha_yield  average_rain_fall_mm_per_year  \\\n",
              "0  Albania        Maize  1990        36613                         1485.0   \n",
              "1  Albania     Potatoes  1990        66667                         1485.0   \n",
              "2  Albania  Rice, paddy  1990        23333                         1485.0   \n",
              "3  Albania      Sorghum  1990        12500                         1485.0   \n",
              "4  Albania     Soybeans  1990         7000                         1485.0   \n",
              "\n",
              "   pesticides_tonnes  avg_temp  \n",
              "0              121.0     16.37  \n",
              "1              121.0     16.37  \n",
              "2              121.0     16.37  \n",
              "3              121.0     16.37  \n",
              "4              121.0     16.37  "
            ]
          },
          "execution_count": 3,
          "metadata": {},
          "output_type": "execute_result"
        }
      ],
      "source": [
        "import pandas as pd\n",
        "import matplotlib.pyplot as plt\n",
        "import numpy as np\n",
        "import seaborn as sns\n",
        "df = pd.read_csv('yield_df.csv')\n",
        "df.drop(['Unnamed: 0'], axis=1 , inplace=True)\n",
        "df.head()"
      ]
    },
    {
      "cell_type": "markdown",
      "metadata": {
        "id": "FtWly_5RhpQR"
      },
      "source": [
        "dataset's characteristics"
      ]
    },
    {
      "cell_type": "code",
      "execution_count": 4,
      "metadata": {
        "colab": {
          "base_uri": "https://localhost:8080/",
          "height": 543
        },
        "id": "gNcRTUOxhuhr",
        "outputId": "b5457866-5326-4e02-c6e5-4d78f08f7c56"
      },
      "outputs": [
        {
          "name": "stdout",
          "output_type": "stream",
          "text": [
            "<class 'pandas.core.frame.DataFrame'>\n",
            "RangeIndex: 28242 entries, 0 to 28241\n",
            "Data columns (total 7 columns):\n",
            " #   Column                         Non-Null Count  Dtype  \n",
            "---  ------                         --------------  -----  \n",
            " 0   Area                           28242 non-null  object \n",
            " 1   Item                           28242 non-null  object \n",
            " 2   Year                           28242 non-null  int64  \n",
            " 3   hg/ha_yield                    28242 non-null  int64  \n",
            " 4   average_rain_fall_mm_per_year  28242 non-null  float64\n",
            " 5   pesticides_tonnes              28242 non-null  float64\n",
            " 6   avg_temp                       28242 non-null  float64\n",
            "dtypes: float64(3), int64(2), object(2)\n",
            "memory usage: 1.5+ MB\n"
          ]
        },
        {
          "data": {
            "text/html": [
              "<div>\n",
              "<style scoped>\n",
              "    .dataframe tbody tr th:only-of-type {\n",
              "        vertical-align: middle;\n",
              "    }\n",
              "\n",
              "    .dataframe tbody tr th {\n",
              "        vertical-align: top;\n",
              "    }\n",
              "\n",
              "    .dataframe thead th {\n",
              "        text-align: right;\n",
              "    }\n",
              "</style>\n",
              "<table border=\"1\" class=\"dataframe\">\n",
              "  <thead>\n",
              "    <tr style=\"text-align: right;\">\n",
              "      <th></th>\n",
              "      <th>Year</th>\n",
              "      <th>hg/ha_yield</th>\n",
              "      <th>average_rain_fall_mm_per_year</th>\n",
              "      <th>pesticides_tonnes</th>\n",
              "      <th>avg_temp</th>\n",
              "    </tr>\n",
              "  </thead>\n",
              "  <tbody>\n",
              "    <tr>\n",
              "      <th>count</th>\n",
              "      <td>28242.000000</td>\n",
              "      <td>28242.000000</td>\n",
              "      <td>28242.00000</td>\n",
              "      <td>28242.000000</td>\n",
              "      <td>28242.000000</td>\n",
              "    </tr>\n",
              "    <tr>\n",
              "      <th>mean</th>\n",
              "      <td>2001.544296</td>\n",
              "      <td>77053.332094</td>\n",
              "      <td>1149.05598</td>\n",
              "      <td>37076.909344</td>\n",
              "      <td>20.542627</td>\n",
              "    </tr>\n",
              "    <tr>\n",
              "      <th>std</th>\n",
              "      <td>7.051905</td>\n",
              "      <td>84956.612897</td>\n",
              "      <td>709.81215</td>\n",
              "      <td>59958.784665</td>\n",
              "      <td>6.312051</td>\n",
              "    </tr>\n",
              "    <tr>\n",
              "      <th>min</th>\n",
              "      <td>1990.000000</td>\n",
              "      <td>50.000000</td>\n",
              "      <td>51.00000</td>\n",
              "      <td>0.040000</td>\n",
              "      <td>1.300000</td>\n",
              "    </tr>\n",
              "    <tr>\n",
              "      <th>25%</th>\n",
              "      <td>1995.000000</td>\n",
              "      <td>19919.250000</td>\n",
              "      <td>593.00000</td>\n",
              "      <td>1702.000000</td>\n",
              "      <td>16.702500</td>\n",
              "    </tr>\n",
              "    <tr>\n",
              "      <th>50%</th>\n",
              "      <td>2001.000000</td>\n",
              "      <td>38295.000000</td>\n",
              "      <td>1083.00000</td>\n",
              "      <td>17529.440000</td>\n",
              "      <td>21.510000</td>\n",
              "    </tr>\n",
              "    <tr>\n",
              "      <th>75%</th>\n",
              "      <td>2008.000000</td>\n",
              "      <td>104676.750000</td>\n",
              "      <td>1668.00000</td>\n",
              "      <td>48687.880000</td>\n",
              "      <td>26.000000</td>\n",
              "    </tr>\n",
              "    <tr>\n",
              "      <th>max</th>\n",
              "      <td>2013.000000</td>\n",
              "      <td>501412.000000</td>\n",
              "      <td>3240.00000</td>\n",
              "      <td>367778.000000</td>\n",
              "      <td>30.650000</td>\n",
              "    </tr>\n",
              "  </tbody>\n",
              "</table>\n",
              "</div>"
            ],
            "text/plain": [
              "               Year    hg/ha_yield  average_rain_fall_mm_per_year  \\\n",
              "count  28242.000000   28242.000000                    28242.00000   \n",
              "mean    2001.544296   77053.332094                     1149.05598   \n",
              "std        7.051905   84956.612897                      709.81215   \n",
              "min     1990.000000      50.000000                       51.00000   \n",
              "25%     1995.000000   19919.250000                      593.00000   \n",
              "50%     2001.000000   38295.000000                     1083.00000   \n",
              "75%     2008.000000  104676.750000                     1668.00000   \n",
              "max     2013.000000  501412.000000                     3240.00000   \n",
              "\n",
              "       pesticides_tonnes      avg_temp  \n",
              "count       28242.000000  28242.000000  \n",
              "mean        37076.909344     20.542627  \n",
              "std         59958.784665      6.312051  \n",
              "min             0.040000      1.300000  \n",
              "25%          1702.000000     16.702500  \n",
              "50%         17529.440000     21.510000  \n",
              "75%         48687.880000     26.000000  \n",
              "max        367778.000000     30.650000  "
            ]
          },
          "execution_count": 4,
          "metadata": {},
          "output_type": "execute_result"
        }
      ],
      "source": [
        "df.shape\n",
        "df.info()\n",
        "df.describe()"
      ]
    },
    {
      "cell_type": "markdown",
      "metadata": {
        "id": "WsircuNeh-6z"
      },
      "source": [
        "3.Identifying Unique Entities\n"
      ]
    },
    {
      "cell_type": "code",
      "execution_count": 5,
      "metadata": {
        "colab": {
          "base_uri": "https://localhost:8080/"
        },
        "id": "CYg_PmJ5iAbk",
        "outputId": "e93f78a6-dfcd-49ac-ede6-855c52bf5afa"
      },
      "outputs": [
        {
          "data": {
            "text/plain": [
              "101"
            ]
          },
          "execution_count": 5,
          "metadata": {},
          "output_type": "execute_result"
        }
      ],
      "source": [
        "df['Area'].nunique()\n"
      ]
    },
    {
      "cell_type": "code",
      "execution_count": 6,
      "metadata": {
        "colab": {
          "base_uri": "https://localhost:8080/"
        },
        "id": "6VBefDo2ibt_",
        "outputId": "a5ba665c-114e-405f-c2be-08dc9bc03da9"
      },
      "outputs": [
        {
          "data": {
            "text/plain": [
              "10"
            ]
          },
          "execution_count": 6,
          "metadata": {},
          "output_type": "execute_result"
        }
      ],
      "source": [
        "df['Item'].nunique()\n"
      ]
    },
    {
      "cell_type": "code",
      "execution_count": 7,
      "metadata": {
        "colab": {
          "base_uri": "https://localhost:8080/"
        },
        "id": "A9bxvPTGifi6",
        "outputId": "78ad456f-ffcb-421f-a49e-14908b4f8c52"
      },
      "outputs": [
        {
          "data": {
            "text/plain": [
              "array([1990, 1991, 1992, 1993, 1994, 1995, 1996, 1997, 1998, 1999, 2000,\n",
              "       2001, 2002, 2004, 2005, 2006, 2007, 2008, 2009, 2010, 2011, 2012,\n",
              "       2013])"
            ]
          },
          "execution_count": 7,
          "metadata": {},
          "output_type": "execute_result"
        }
      ],
      "source": [
        "df['Year'].unique()"
      ]
    },
    {
      "cell_type": "markdown",
      "metadata": {
        "id": "Q_bN6EfYiqyl"
      },
      "source": [
        "4.Analyzing Production Rates\n"
      ]
    },
    {
      "cell_type": "code",
      "execution_count": 8,
      "metadata": {
        "colab": {
          "base_uri": "https://localhost:8080/",
          "height": 236
        },
        "id": "ZLe14SAHiwDr",
        "outputId": "d09d67c5-7002-4cfb-a63a-e86bf2d0af5e"
      },
      "outputs": [
        {
          "name": "stderr",
          "output_type": "stream",
          "text": [
            "C:\\Users\\mahid\\AppData\\Local\\Temp\\ipykernel_18692\\2046204179.py:2: FutureWarning: The provided callable <function max at 0x00000118EAAA00E0> is currently using Series.max. In a future version of pandas, the provided callable will be used directly. To keep current behavior pass the string \"max\" instead.\n",
            "  df['hg/ha_yield'].agg([np.max , np.min])\n",
            "C:\\Users\\mahid\\AppData\\Local\\Temp\\ipykernel_18692\\2046204179.py:2: FutureWarning: The provided callable <function min at 0x00000118EAAA0220> is currently using Series.min. In a future version of pandas, the provided callable will be used directly. To keep current behavior pass the string \"min\" instead.\n",
            "  df['hg/ha_yield'].agg([np.max , np.min])\n"
          ]
        },
        {
          "data": {
            "text/plain": [
              "max    501412\n",
              "min        50\n",
              "Name: hg/ha_yield, dtype: int64"
            ]
          },
          "execution_count": 8,
          "metadata": {},
          "output_type": "execute_result"
        }
      ],
      "source": [
        "# The highest and the lowest production rate\n",
        "df['hg/ha_yield'].agg([np.max , np.min])\n"
      ]
    },
    {
      "cell_type": "code",
      "execution_count": 9,
      "metadata": {
        "colab": {
          "base_uri": "https://localhost:8080/",
          "height": 115
        },
        "id": "8S0qNCxEi7yM",
        "outputId": "501dce36-44cd-4416-ef83-61cae7cfbed8"
      },
      "outputs": [
        {
          "data": {
            "text/plain": [
              "2470    Belgium\n",
              "Name: Area, dtype: object"
            ]
          },
          "execution_count": 9,
          "metadata": {},
          "output_type": "execute_result"
        }
      ],
      "source": [
        "# Area with highest production rate\n",
        "df[df['hg/ha_yield'] == df['hg/ha_yield'].max() ]['Area']"
      ]
    },
    {
      "cell_type": "code",
      "execution_count": 10,
      "metadata": {
        "colab": {
          "base_uri": "https://localhost:8080/",
          "height": 115
        },
        "id": "VR8OqlPWjGpW",
        "outputId": "63ce846d-c47e-4460-98ba-538a17a9d089"
      },
      "outputs": [
        {
          "data": {
            "text/plain": [
              "26174    Tajikistan\n",
              "Name: Area, dtype: object"
            ]
          },
          "execution_count": 10,
          "metadata": {},
          "output_type": "execute_result"
        }
      ],
      "source": [
        "# Area with lowest production rate\n",
        "df[df['hg/ha_yield'] == df['hg/ha_yield'].min() ] ['Area']"
      ]
    },
    {
      "cell_type": "code",
      "execution_count": 11,
      "metadata": {
        "colab": {
          "base_uri": "https://localhost:8080/",
          "height": 115
        },
        "id": "5cLSyKEIjTRk",
        "outputId": "4ab1a953-7899-48ef-80ba-f1c25cc1b46f"
      },
      "outputs": [
        {
          "data": {
            "text/plain": [
              "2470    2011\n",
              "Name: Year, dtype: int64"
            ]
          },
          "execution_count": 11,
          "metadata": {},
          "output_type": "execute_result"
        }
      ],
      "source": [
        "# Year with highest production rate\n",
        "df[df['hg/ha_yield'] == df['hg/ha_yield'].max() ]['Year']"
      ]
    },
    {
      "cell_type": "code",
      "execution_count": 12,
      "metadata": {
        "colab": {
          "base_uri": "https://localhost:8080/",
          "height": 115
        },
        "id": "PGYn2wZBjimQ",
        "outputId": "68056029-f168-40bd-f508-70029a56878d"
      },
      "outputs": [
        {
          "data": {
            "text/plain": [
              "26174    1992\n",
              "Name: Year, dtype: int64"
            ]
          },
          "execution_count": 12,
          "metadata": {},
          "output_type": "execute_result"
        }
      ],
      "source": [
        "# Year with lowest production rate\n",
        "df[df['hg/ha_yield'] == df['hg/ha_yield'].min() ] ['Year']"
      ]
    },
    {
      "cell_type": "markdown",
      "metadata": {
        "id": "lv-8WefRjr_T"
      },
      "source": [
        "5.Environmental Factors\n"
      ]
    },
    {
      "cell_type": "code",
      "execution_count": 13,
      "metadata": {
        "colab": {
          "base_uri": "https://localhost:8080/",
          "height": 147
        },
        "id": "PhPRgVK1jtPb",
        "outputId": "192f3d08-2e92-43b0-c4aa-9788e92c2ec3"
      },
      "outputs": [
        {
          "data": {
            "text/plain": [
              "Area\n",
              "Sudan    30.65\n",
              "Name: avg_temp, dtype: float64"
            ]
          },
          "execution_count": 13,
          "metadata": {},
          "output_type": "execute_result"
        }
      ],
      "source": [
        "# Area with highest Temperature\n",
        "df.groupby('Area')['avg_temp'].max().sort_values(ascending = False).head(1)"
      ]
    },
    {
      "cell_type": "code",
      "execution_count": 14,
      "metadata": {
        "colab": {
          "base_uri": "https://localhost:8080/",
          "height": 147
        },
        "id": "P91-HwJnj6yB",
        "outputId": "11b77406-43c4-4462-a063-b3800bc0b036"
      },
      "outputs": [
        {
          "data": {
            "text/plain": [
              "Area\n",
              "Norway    4.55\n",
              "Name: avg_temp, dtype: float64"
            ]
          },
          "execution_count": 14,
          "metadata": {},
          "output_type": "execute_result"
        }
      ],
      "source": [
        "# Area with lowest Temperature\n",
        "df.groupby('Area')['avg_temp'].max().sort_values(ascending = True).head(1)"
      ]
    },
    {
      "cell_type": "code",
      "execution_count": 15,
      "metadata": {
        "colab": {
          "base_uri": "https://localhost:8080/",
          "height": 115
        },
        "id": "rN2UWMMDkCDO",
        "outputId": "a93c5b75-875d-4612-f1f2-9c1c6beec623"
      },
      "outputs": [
        {
          "data": {
            "text/plain": [
              "2470    Potatoes\n",
              "Name: Item, dtype: object"
            ]
          },
          "execution_count": 15,
          "metadata": {},
          "output_type": "execute_result"
        }
      ],
      "source": [
        "# The most productive crop\n",
        "df[df['hg/ha_yield'] == df['hg/ha_yield'].max() ]['Item']"
      ]
    },
    {
      "cell_type": "code",
      "execution_count": 16,
      "metadata": {
        "colab": {
          "base_uri": "https://localhost:8080/",
          "height": 115
        },
        "id": "xIdQVbTSkdf0",
        "outputId": "4cf9794c-3028-4528-fbaf-ed2f46774ad3"
      },
      "outputs": [
        {
          "data": {
            "text/plain": [
              "26174    Soybeans\n",
              "Name: Item, dtype: object"
            ]
          },
          "execution_count": 16,
          "metadata": {},
          "output_type": "execute_result"
        }
      ],
      "source": [
        "# The least productive crop\n",
        "df[df['hg/ha_yield'] == df['hg/ha_yield'].min() ]['Item']"
      ]
    },
    {
      "cell_type": "code",
      "execution_count": 17,
      "metadata": {
        "colab": {
          "base_uri": "https://localhost:8080/",
          "height": 147
        },
        "id": "J_GsNJt0khuy",
        "outputId": "6b8f937f-e105-4be0-cf78-11483d5a910a"
      },
      "outputs": [
        {
          "data": {
            "text/plain": [
              "Area\n",
              "Colombia    3240.0\n",
              "Name: average_rain_fall_mm_per_year, dtype: float64"
            ]
          },
          "execution_count": 17,
          "metadata": {},
          "output_type": "execute_result"
        }
      ],
      "source": [
        "# Area with highest rainfall\n",
        "#df[df['average_rain_fall_mm_per_year'] == df['average_rain_fall_mm_per_year'].max()]\n",
        "df.groupby('Area')['average_rain_fall_mm_per_year'].max().sort_values(ascending = False).head(1)"
      ]
    },
    {
      "cell_type": "code",
      "execution_count": 18,
      "metadata": {
        "colab": {
          "base_uri": "https://localhost:8080/",
          "height": 147
        },
        "id": "tZ1as3DHkvzy",
        "outputId": "5669492f-3745-4bfe-947e-625a29e321d6"
      },
      "outputs": [
        {
          "data": {
            "text/plain": [
              "Area\n",
              "Egypt    51.0\n",
              "Name: average_rain_fall_mm_per_year, dtype: float64"
            ]
          },
          "execution_count": 18,
          "metadata": {},
          "output_type": "execute_result"
        }
      ],
      "source": [
        "# Area with lowest rainfall\n",
        "#df[df['average_rain_fall_mm_per_year'] == df['average_rain_fall_mm_per_year'].min()]\n",
        "df.groupby('Area')['average_rain_fall_mm_per_year'].min().sort_values(ascending = True).head(1)\n"
      ]
    },
    {
      "cell_type": "markdown",
      "metadata": {
        "id": "2DevvFtrk9Mq"
      },
      "source": [
        "Data Visualization"
      ]
    },
    {
      "cell_type": "markdown",
      "metadata": {
        "id": "fRQzz8bClEK9"
      },
      "source": [
        "Correlation Analysis:\n",
        "The relationship between temperature and crop yield, as well as rainfall and crop yield, is visually represented using scatter plots. Correlation coefficients are computed to quantify the strength of these relationships."
      ]
    },
    {
      "cell_type": "code",
      "execution_count": 19,
      "metadata": {
        "colab": {
          "base_uri": "https://localhost:8080/",
          "height": 430
        },
        "id": "DH9GwxkslF3W",
        "outputId": "57c9ff6c-1c19-44cc-9359-d50e9555525e"
      },
      "outputs": [
        {
          "data": {
            "image/png": "[encoded data removed]",
            "text/plain": [
              "<Figure size 640x480 with 1 Axes>"
            ]
          },
          "metadata": {},
          "output_type": "display_data"
        }
      ],
      "source": [
        "plt.scatter(x= 'avg_temp' , y= 'hg/ha_yield' , data = df)\n",
        "plt.show()"
      ]
    },
    {
      "cell_type": "code",
      "execution_count": 20,
      "metadata": {
        "colab": {
          "base_uri": "https://localhost:8080/",
          "height": 112
        },
        "id": "3C2U4WC7lQtF",
        "outputId": "cdd2ee09-a59e-4805-f93e-3946ecadad89"
      },
      "outputs": [
        {
          "data": {
            "text/html": [
              "<div>\n",
              "<style scoped>\n",
              "    .dataframe tbody tr th:only-of-type {\n",
              "        vertical-align: middle;\n",
              "    }\n",
              "\n",
              "    .dataframe tbody tr th {\n",
              "        vertical-align: top;\n",
              "    }\n",
              "\n",
              "    .dataframe thead th {\n",
              "        text-align: right;\n",
              "    }\n",
              "</style>\n",
              "<table border=\"1\" class=\"dataframe\">\n",
              "  <thead>\n",
              "    <tr style=\"text-align: right;\">\n",
              "      <th></th>\n",
              "      <th>average_rain_fall_mm_per_year</th>\n",
              "      <th>hg/ha_yield</th>\n",
              "    </tr>\n",
              "  </thead>\n",
              "  <tbody>\n",
              "    <tr>\n",
              "      <th>average_rain_fall_mm_per_year</th>\n",
              "      <td>1.000000</td>\n",
              "      <td>0.000962</td>\n",
              "    </tr>\n",
              "    <tr>\n",
              "      <th>hg/ha_yield</th>\n",
              "      <td>0.000962</td>\n",
              "      <td>1.000000</td>\n",
              "    </tr>\n",
              "  </tbody>\n",
              "</table>\n",
              "</div>"
            ],
            "text/plain": [
              "                               average_rain_fall_mm_per_year  hg/ha_yield\n",
              "average_rain_fall_mm_per_year                       1.000000     0.000962\n",
              "hg/ha_yield                                         0.000962     1.000000"
            ]
          },
          "execution_count": 20,
          "metadata": {},
          "output_type": "execute_result"
        }
      ],
      "source": [
        "df_rain_prod = df[['average_rain_fall_mm_per_year' , 'hg/ha_yield']]\n",
        "df_rain_prod.corr(method = 'pearson')"
      ]
    },
    {
      "cell_type": "code",
      "execution_count": 21,
      "metadata": {
        "colab": {
          "base_uri": "https://localhost:8080/",
          "height": 430
        },
        "id": "i9t7WhullSYA",
        "outputId": "e20fd7d1-9eb8-44f6-a600-8a2da5355bdd"
      },
      "outputs": [
        {
          "data": {
            "image/png": "[encoded data removed]",
            "text/plain": [
              "<Figure size 640x480 with 1 Axes>"
            ]
          },
          "metadata": {},
          "output_type": "display_data"
        }
      ],
      "source": [
        "plt.scatter(x = 'average_rain_fall_mm_per_year' , y= 'hg/ha_yield' , data = df)\n",
        "plt.show()"
      ]
    },
    {
      "cell_type": "code",
      "execution_count": 22,
      "metadata": {
        "colab": {
          "base_uri": "https://localhost:8080/",
          "height": 643
        },
        "id": "inEiYKFal6YV",
        "outputId": "1d3bae23-41af-42e5-ae2c-67510f98bdc0"
      },
      "outputs": [
        {
          "data": {
            "image/png": "[encoded data removed]",
            "text/plain": [
              "<Figure size 640x480 with 2 Axes>"
            ]
          },
          "metadata": {},
          "output_type": "display_data"
        }
      ],
      "source": [
        "# Select only numerical features for correlation analysis\n",
        "numerical_features = df.select_dtypes(include=['number'])\n",
        "\n",
        "# Calculate the correlation matrix for numerical features\n",
        "correlation_matrix = numerical_features.corr()\n",
        "\n",
        "# Generate the heatmap\n",
        "sns.heatmap(correlation_matrix, annot=True, cmap='PiYG')\n",
        "plt.show()"
      ]
    }
  ],
  "metadata": {
    "colab": {
      "provenance": []
    },
    "kernelspec": {
      "display_name": "Python 3",
      "name": "python3"
    },
    "language_info": {
      "codemirror_mode": {
        "name": "ipython",
        "version": 3
      },
      "file_extension": ".py",
      "mimetype": "text/x-python",
      "name": "python",
      "nbconvert_exporter": "python",
      "pygments_lexer": "ipython3",
      "version": "3.13.2"
    }
  },
  "nbformat": 4,
  "nbformat_minor": 0
}
